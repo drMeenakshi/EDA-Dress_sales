{
 "cells": [
  {
   "cell_type": "code",
   "execution_count": 1,
   "id": "426f4cc0-534d-49a5-a12d-30d84b373d77",
   "metadata": {},
   "outputs": [],
   "source": [
    "import numpy as np, pandas as pd\n",
    "import matplotlib.pyplot as plt, seaborn as sns"
   ]
  },
  {
   "cell_type": "markdown",
   "id": "631be5db-a3bd-4a45-93e0-b94674271983",
   "metadata": {},
   "source": [
    "### Read the datasets"
   ]
  },
  {
   "cell_type": "code",
   "execution_count": 522,
   "id": "8181b960-100d-4359-b785-33fda6d60f54",
   "metadata": {},
   "outputs": [],
   "source": [
    "attribute_df = pd.read_csv('Attribute+DataSet (2).csv') #  dataset of woman's clothing\n",
    "sales_df = pd.read_csv('Dress+Sales (1).csv') # dataset having sales for different seasons"
   ]
  },
  {
   "cell_type": "markdown",
   "id": "1de787ee-d49c-47aa-8bfa-76a44f922539",
   "metadata": {},
   "source": [
    "## To perform the EDA, we have following steps:\n",
    "1. Data cleaning\n",
    "2. Univariate analysis\n",
    "3. Bivariate analysis"
   ]
  },
  {
   "cell_type": "markdown",
   "id": "99b0db78-494e-4825-9e25-8f9ba0ad532e",
   "metadata": {},
   "source": [
    "## Data Cleaning"
   ]
  },
  {
   "cell_type": "markdown",
   "id": "66937759-24b5-47a3-8477-9bf0ba46b5c8",
   "metadata": {},
   "source": [
    "## 1. Check details of both datasets using .info()"
   ]
  },
  {
   "cell_type": "code",
   "execution_count": 296,
   "id": "69baf446-0faf-4be1-9a40-ab41f6083909",
   "metadata": {},
   "outputs": [
    {
     "data": {
      "text/html": [
       "<div>\n",
       "<style scoped>\n",
       "    .dataframe tbody tr th:only-of-type {\n",
       "        vertical-align: middle;\n",
       "    }\n",
       "\n",
       "    .dataframe tbody tr th {\n",
       "        vertical-align: top;\n",
       "    }\n",
       "\n",
       "    .dataframe thead th {\n",
       "        text-align: right;\n",
       "    }\n",
       "</style>\n",
       "<table border=\"1\" class=\"dataframe\">\n",
       "  <thead>\n",
       "    <tr style=\"text-align: right;\">\n",
       "      <th></th>\n",
       "      <th>Dress_ID</th>\n",
       "      <th>Style</th>\n",
       "      <th>Price</th>\n",
       "      <th>Rating</th>\n",
       "      <th>Size</th>\n",
       "      <th>Season</th>\n",
       "      <th>NeckLine</th>\n",
       "      <th>SleeveLength</th>\n",
       "      <th>Material</th>\n",
       "      <th>FabricType</th>\n",
       "      <th>Decoration</th>\n",
       "      <th>Pattern Type</th>\n",
       "      <th>Recommendation</th>\n",
       "    </tr>\n",
       "  </thead>\n",
       "  <tbody>\n",
       "    <tr>\n",
       "      <th>0</th>\n",
       "      <td>1006032852</td>\n",
       "      <td>Sexy</td>\n",
       "      <td>Low</td>\n",
       "      <td>4.6</td>\n",
       "      <td>M</td>\n",
       "      <td>Summer</td>\n",
       "      <td>o-neck</td>\n",
       "      <td>sleevless</td>\n",
       "      <td>NaN</td>\n",
       "      <td>chiffon</td>\n",
       "      <td>ruffles</td>\n",
       "      <td>animal</td>\n",
       "      <td>1</td>\n",
       "    </tr>\n",
       "    <tr>\n",
       "      <th>1</th>\n",
       "      <td>1212192089</td>\n",
       "      <td>Casual</td>\n",
       "      <td>Low</td>\n",
       "      <td>0.0</td>\n",
       "      <td>L</td>\n",
       "      <td>Summer</td>\n",
       "      <td>o-neck</td>\n",
       "      <td>Petal</td>\n",
       "      <td>microfiber</td>\n",
       "      <td>NaN</td>\n",
       "      <td>ruffles</td>\n",
       "      <td>animal</td>\n",
       "      <td>0</td>\n",
       "    </tr>\n",
       "    <tr>\n",
       "      <th>2</th>\n",
       "      <td>1190380701</td>\n",
       "      <td>vintage</td>\n",
       "      <td>High</td>\n",
       "      <td>0.0</td>\n",
       "      <td>L</td>\n",
       "      <td>Automn</td>\n",
       "      <td>o-neck</td>\n",
       "      <td>full</td>\n",
       "      <td>polyster</td>\n",
       "      <td>NaN</td>\n",
       "      <td>NaN</td>\n",
       "      <td>print</td>\n",
       "      <td>0</td>\n",
       "    </tr>\n",
       "    <tr>\n",
       "      <th>3</th>\n",
       "      <td>966005983</td>\n",
       "      <td>Brief</td>\n",
       "      <td>Average</td>\n",
       "      <td>4.6</td>\n",
       "      <td>L</td>\n",
       "      <td>Spring</td>\n",
       "      <td>o-neck</td>\n",
       "      <td>full</td>\n",
       "      <td>silk</td>\n",
       "      <td>chiffon</td>\n",
       "      <td>embroidary</td>\n",
       "      <td>print</td>\n",
       "      <td>1</td>\n",
       "    </tr>\n",
       "    <tr>\n",
       "      <th>4</th>\n",
       "      <td>876339541</td>\n",
       "      <td>cute</td>\n",
       "      <td>Low</td>\n",
       "      <td>4.5</td>\n",
       "      <td>M</td>\n",
       "      <td>Summer</td>\n",
       "      <td>o-neck</td>\n",
       "      <td>butterfly</td>\n",
       "      <td>chiffonfabric</td>\n",
       "      <td>chiffon</td>\n",
       "      <td>bow</td>\n",
       "      <td>dot</td>\n",
       "      <td>0</td>\n",
       "    </tr>\n",
       "  </tbody>\n",
       "</table>\n",
       "</div>"
      ],
      "text/plain": [
       "     Dress_ID    Style    Price  Rating Size  Season NeckLine SleeveLength  \\\n",
       "0  1006032852     Sexy      Low     4.6    M  Summer   o-neck    sleevless   \n",
       "1  1212192089   Casual      Low     0.0    L  Summer   o-neck        Petal   \n",
       "2  1190380701  vintage     High     0.0    L  Automn   o-neck         full   \n",
       "3   966005983    Brief  Average     4.6    L  Spring   o-neck         full   \n",
       "4   876339541     cute      Low     4.5    M  Summer   o-neck    butterfly   \n",
       "\n",
       "        Material FabricType  Decoration Pattern Type  Recommendation  \n",
       "0            NaN    chiffon     ruffles       animal               1  \n",
       "1     microfiber        NaN     ruffles       animal               0  \n",
       "2       polyster        NaN         NaN        print               0  \n",
       "3           silk    chiffon  embroidary        print               1  \n",
       "4  chiffonfabric    chiffon         bow          dot               0  "
      ]
     },
     "execution_count": 296,
     "metadata": {},
     "output_type": "execute_result"
    }
   ],
   "source": [
    "# view first 5 rows of the data\n",
    "attribute_df.head()"
   ]
  },
  {
   "cell_type": "code",
   "execution_count": 294,
   "id": "75a7c3ea-9773-4c00-b6db-cf27290cb3fe",
   "metadata": {},
   "outputs": [
    {
     "name": "stdout",
     "output_type": "stream",
     "text": [
      "<class 'pandas.core.frame.DataFrame'>\n",
      "RangeIndex: 479 entries, 0 to 478\n",
      "Data columns (total 13 columns):\n",
      " #   Column          Non-Null Count  Dtype  \n",
      "---  ------          --------------  -----  \n",
      " 0   Dress_ID        479 non-null    int64  \n",
      " 1   Style           479 non-null    object \n",
      " 2   Price           477 non-null    object \n",
      " 3   Rating          479 non-null    float64\n",
      " 4   Size            479 non-null    object \n",
      " 5   Season          477 non-null    object \n",
      " 6   NeckLine        476 non-null    object \n",
      " 7   SleeveLength    477 non-null    object \n",
      " 8   Material        360 non-null    object \n",
      " 9   FabricType      223 non-null    object \n",
      " 10  Decoration      255 non-null    object \n",
      " 11  Pattern Type    377 non-null    object \n",
      " 12  Recommendation  479 non-null    int64  \n",
      "dtypes: float64(1), int64(2), object(10)\n",
      "memory usage: 48.8+ KB\n"
     ]
    }
   ],
   "source": [
    "# View the information of the attribute data\n",
    "attribute_df.info()"
   ]
  },
  {
   "cell_type": "code",
   "execution_count": 298,
   "id": "7904cbe3-951b-4cca-929c-7c1abc65f5aa",
   "metadata": {},
   "outputs": [
    {
     "data": {
      "text/html": [
       "<div>\n",
       "<style scoped>\n",
       "    .dataframe tbody tr th:only-of-type {\n",
       "        vertical-align: middle;\n",
       "    }\n",
       "\n",
       "    .dataframe tbody tr th {\n",
       "        vertical-align: top;\n",
       "    }\n",
       "\n",
       "    .dataframe thead th {\n",
       "        text-align: right;\n",
       "    }\n",
       "</style>\n",
       "<table border=\"1\" class=\"dataframe\">\n",
       "  <thead>\n",
       "    <tr style=\"text-align: right;\">\n",
       "      <th></th>\n",
       "      <th>Dress_ID</th>\n",
       "      <th>29-08-2013</th>\n",
       "      <th>31-08-2013</th>\n",
       "      <th>09-02-2013</th>\n",
       "      <th>09-04-2013</th>\n",
       "      <th>09-06-2013</th>\n",
       "      <th>09-08-2013</th>\n",
       "      <th>09-10-2013</th>\n",
       "      <th>09-12-2013</th>\n",
       "      <th>14-09-2013</th>\n",
       "      <th>...</th>\n",
       "      <th>24-09-2013</th>\n",
       "      <th>26-09-2013</th>\n",
       "      <th>28-09-2013</th>\n",
       "      <th>30-09-2013</th>\n",
       "      <th>10-02-2013</th>\n",
       "      <th>10-04-2013</th>\n",
       "      <th>10-06-2013</th>\n",
       "      <th>10-08-2013</th>\n",
       "      <th>10-10-2013</th>\n",
       "      <th>10-12-2013</th>\n",
       "    </tr>\n",
       "  </thead>\n",
       "  <tbody>\n",
       "    <tr>\n",
       "      <th>0</th>\n",
       "      <td>1.006033e+09</td>\n",
       "      <td>2114</td>\n",
       "      <td>2274</td>\n",
       "      <td>2491</td>\n",
       "      <td>2660</td>\n",
       "      <td>2727</td>\n",
       "      <td>2887</td>\n",
       "      <td>2930</td>\n",
       "      <td>3119</td>\n",
       "      <td>3204</td>\n",
       "      <td>...</td>\n",
       "      <td>3554</td>\n",
       "      <td>3624.0</td>\n",
       "      <td>3706</td>\n",
       "      <td>3746.0</td>\n",
       "      <td>3795.0</td>\n",
       "      <td>3832.0</td>\n",
       "      <td>3897</td>\n",
       "      <td>3923.0</td>\n",
       "      <td>3985.0</td>\n",
       "      <td>4048</td>\n",
       "    </tr>\n",
       "    <tr>\n",
       "      <th>1</th>\n",
       "      <td>1.212192e+09</td>\n",
       "      <td>151</td>\n",
       "      <td>275</td>\n",
       "      <td>570</td>\n",
       "      <td>750</td>\n",
       "      <td>813</td>\n",
       "      <td>1066</td>\n",
       "      <td>1164</td>\n",
       "      <td>1558</td>\n",
       "      <td>1756</td>\n",
       "      <td>...</td>\n",
       "      <td>2710</td>\n",
       "      <td>2942.0</td>\n",
       "      <td>3258</td>\n",
       "      <td>3354.0</td>\n",
       "      <td>3475.0</td>\n",
       "      <td>3654.0</td>\n",
       "      <td>3911</td>\n",
       "      <td>4024.0</td>\n",
       "      <td>4125.0</td>\n",
       "      <td>4277</td>\n",
       "    </tr>\n",
       "    <tr>\n",
       "      <th>2</th>\n",
       "      <td>1.190381e+09</td>\n",
       "      <td>6</td>\n",
       "      <td>7</td>\n",
       "      <td>7</td>\n",
       "      <td>7</td>\n",
       "      <td>8</td>\n",
       "      <td>8</td>\n",
       "      <td>9</td>\n",
       "      <td>10</td>\n",
       "      <td>10</td>\n",
       "      <td>...</td>\n",
       "      <td>11</td>\n",
       "      <td>11.0</td>\n",
       "      <td>11</td>\n",
       "      <td>11.0</td>\n",
       "      <td>11.0</td>\n",
       "      <td>11.0</td>\n",
       "      <td>11</td>\n",
       "      <td>11.0</td>\n",
       "      <td>11.0</td>\n",
       "      <td>11</td>\n",
       "    </tr>\n",
       "    <tr>\n",
       "      <th>3</th>\n",
       "      <td>9.660060e+08</td>\n",
       "      <td>1005</td>\n",
       "      <td>1128</td>\n",
       "      <td>1326</td>\n",
       "      <td>1455</td>\n",
       "      <td>1507</td>\n",
       "      <td>1621</td>\n",
       "      <td>1637</td>\n",
       "      <td>1723</td>\n",
       "      <td>1746</td>\n",
       "      <td>...</td>\n",
       "      <td>1878</td>\n",
       "      <td>1892.0</td>\n",
       "      <td>1914</td>\n",
       "      <td>1924.0</td>\n",
       "      <td>1929.0</td>\n",
       "      <td>1941.0</td>\n",
       "      <td>1952</td>\n",
       "      <td>1955.0</td>\n",
       "      <td>1959.0</td>\n",
       "      <td>1963</td>\n",
       "    </tr>\n",
       "    <tr>\n",
       "      <th>4</th>\n",
       "      <td>8.763395e+08</td>\n",
       "      <td>996</td>\n",
       "      <td>1175</td>\n",
       "      <td>1304</td>\n",
       "      <td>1396</td>\n",
       "      <td>1432</td>\n",
       "      <td>1559</td>\n",
       "      <td>1570</td>\n",
       "      <td>1638</td>\n",
       "      <td>1655</td>\n",
       "      <td>...</td>\n",
       "      <td>2032</td>\n",
       "      <td>2156.0</td>\n",
       "      <td>2252</td>\n",
       "      <td>2312.0</td>\n",
       "      <td>2387.0</td>\n",
       "      <td>2459.0</td>\n",
       "      <td>2544</td>\n",
       "      <td>2614.0</td>\n",
       "      <td>2693.0</td>\n",
       "      <td>2736</td>\n",
       "    </tr>\n",
       "  </tbody>\n",
       "</table>\n",
       "<p>5 rows × 24 columns</p>\n",
       "</div>"
      ],
      "text/plain": [
       "       Dress_ID  29-08-2013  31-08-2013  09-02-2013  09-04-2013  09-06-2013  \\\n",
       "0  1.006033e+09        2114        2274        2491        2660        2727   \n",
       "1  1.212192e+09         151         275         570         750         813   \n",
       "2  1.190381e+09           6           7           7           7           8   \n",
       "3  9.660060e+08        1005        1128        1326        1455        1507   \n",
       "4  8.763395e+08         996        1175        1304        1396        1432   \n",
       "\n",
       "   09-08-2013  09-10-2013 09-12-2013 14-09-2013  ... 24-09-2013 26-09-2013  \\\n",
       "0        2887        2930       3119       3204  ...       3554     3624.0   \n",
       "1        1066        1164       1558       1756  ...       2710     2942.0   \n",
       "2           8           9         10         10  ...         11       11.0   \n",
       "3        1621        1637       1723       1746  ...       1878     1892.0   \n",
       "4        1559        1570       1638       1655  ...       2032     2156.0   \n",
       "\n",
       "  28-09-2013 30-09-2013  10-02-2013  10-04-2013  10-06-2013  10-08-2013  \\\n",
       "0       3706     3746.0      3795.0      3832.0        3897      3923.0   \n",
       "1       3258     3354.0      3475.0      3654.0        3911      4024.0   \n",
       "2         11       11.0        11.0        11.0          11        11.0   \n",
       "3       1914     1924.0      1929.0      1941.0        1952      1955.0   \n",
       "4       2252     2312.0      2387.0      2459.0        2544      2614.0   \n",
       "\n",
       "   10-10-2013  10-12-2013  \n",
       "0      3985.0        4048  \n",
       "1      4125.0        4277  \n",
       "2        11.0          11  \n",
       "3      1959.0        1963  \n",
       "4      2693.0        2736  \n",
       "\n",
       "[5 rows x 24 columns]"
      ]
     },
     "execution_count": 298,
     "metadata": {},
     "output_type": "execute_result"
    }
   ],
   "source": [
    "# view first 5 rows of the sales data\n",
    "sales_df.head()"
   ]
  },
  {
   "cell_type": "code",
   "execution_count": 302,
   "id": "bc0af14c-09b8-4f0e-863e-2803f83e91b4",
   "metadata": {},
   "outputs": [
    {
     "name": "stdout",
     "output_type": "stream",
     "text": [
      "<class 'pandas.core.frame.DataFrame'>\n",
      "RangeIndex: 479 entries, 0 to 478\n",
      "Data columns (total 24 columns):\n",
      " #   Column      Non-Null Count  Dtype  \n",
      "---  ------      --------------  -----  \n",
      " 0   Dress_ID    479 non-null    float64\n",
      " 1   29-08-2013  479 non-null    int64  \n",
      " 2   31-08-2013  479 non-null    int64  \n",
      " 3   09-02-2013  479 non-null    int64  \n",
      " 4   09-04-2013  479 non-null    int64  \n",
      " 5   09-06-2013  479 non-null    int64  \n",
      " 6   09-08-2013  479 non-null    int64  \n",
      " 7   09-10-2013  479 non-null    int64  \n",
      " 8   09-12-2013  479 non-null    object \n",
      " 9   14-09-2013  479 non-null    object \n",
      " 10  16-09-2013  479 non-null    object \n",
      " 11  18-09-2013  479 non-null    object \n",
      " 12  20-09-2013  479 non-null    object \n",
      " 13  22-09-2013  479 non-null    object \n",
      " 14  24-09-2013  479 non-null    int64  \n",
      " 15  26-09-2013  257 non-null    float64\n",
      " 16  28-09-2013  479 non-null    int64  \n",
      " 17  30-09-2013  222 non-null    float64\n",
      " 18  10-02-2013  220 non-null    float64\n",
      " 19  10-04-2013  221 non-null    float64\n",
      " 20  10-06-2013  479 non-null    int64  \n",
      " 21  10-08-2013  224 non-null    float64\n",
      " 22  10-10-2013  224 non-null    float64\n",
      " 23  10-12-2013  479 non-null    int64  \n",
      "dtypes: float64(7), int64(11), object(6)\n",
      "memory usage: 89.9+ KB\n"
     ]
    }
   ],
   "source": [
    "# View the information of the sales data\n",
    "sales_df.info()"
   ]
  },
  {
   "cell_type": "markdown",
   "id": "8fc9f7cc-424b-4637-8764-97f4ab8b5d7a",
   "metadata": {},
   "source": [
    "## 2. Sales dataset"
   ]
  },
  {
   "cell_type": "markdown",
   "id": "a7d4274e-c033-424e-abfe-eec49b733a8a",
   "metadata": {},
   "source": [
    "### Handling dtypes of the dataset"
   ]
  },
  {
   "cell_type": "code",
   "execution_count": 305,
   "id": "b14ec18c-7db6-4e72-b246-cd49b4890bab",
   "metadata": {},
   "outputs": [
    {
     "data": {
      "text/plain": [
       "Index(['Dress_ID', '29-08-2013', '31-08-2013', '09-02-2013', '09-04-2013',\n",
       "       '09-06-2013', '09-08-2013', '09-10-2013', '09-12-2013', '14-09-2013',\n",
       "       '16-09-2013', '18-09-2013', '20-09-2013', '22-09-2013', '24-09-2013',\n",
       "       '26-09-2013', '28-09-2013', '30-09-2013', '10-02-2013', '10-04-2013',\n",
       "       '10-06-2013', '10-08-2013', '10-10-2013', '10-12-2013'],\n",
       "      dtype='object')"
      ]
     },
     "execution_count": 305,
     "metadata": {},
     "output_type": "execute_result"
    }
   ],
   "source": [
    "sales_df.columns"
   ]
  },
  {
   "cell_type": "code",
   "execution_count": 309,
   "id": "ceb8abcf-2ec8-4d4d-8efd-4ef4a3d0b82b",
   "metadata": {},
   "outputs": [],
   "source": [
    "## Changing object dtype to float dtype using pd.to_numeric\n",
    "cols = ['09-12-2013', '14-09-2013','16-09-2013', '18-09-2013', '20-09-2013', '22-09-2013']\n",
    "sales_df[cols] = sales_df[cols].apply(lambda x: pd.to_numeric(x, errors = 'coerce'))"
   ]
  },
  {
   "cell_type": "code",
   "execution_count": 311,
   "id": "fb5b9219-ad3d-4a0b-abb3-d7f4d930a00d",
   "metadata": {},
   "outputs": [
    {
     "name": "stdout",
     "output_type": "stream",
     "text": [
      "<class 'pandas.core.frame.DataFrame'>\n",
      "RangeIndex: 479 entries, 0 to 478\n",
      "Data columns (total 24 columns):\n",
      " #   Column      Non-Null Count  Dtype  \n",
      "---  ------      --------------  -----  \n",
      " 0   Dress_ID    479 non-null    float64\n",
      " 1   29-08-2013  479 non-null    int64  \n",
      " 2   31-08-2013  479 non-null    int64  \n",
      " 3   09-02-2013  479 non-null    int64  \n",
      " 4   09-04-2013  479 non-null    int64  \n",
      " 5   09-06-2013  479 non-null    int64  \n",
      " 6   09-08-2013  479 non-null    int64  \n",
      " 7   09-10-2013  479 non-null    int64  \n",
      " 8   09-12-2013  478 non-null    float64\n",
      " 9   14-09-2013  478 non-null    float64\n",
      " 10  16-09-2013  478 non-null    float64\n",
      " 11  18-09-2013  478 non-null    float64\n",
      " 12  20-09-2013  478 non-null    float64\n",
      " 13  22-09-2013  478 non-null    float64\n",
      " 14  24-09-2013  479 non-null    int64  \n",
      " 15  26-09-2013  257 non-null    float64\n",
      " 16  28-09-2013  479 non-null    int64  \n",
      " 17  30-09-2013  222 non-null    float64\n",
      " 18  10-02-2013  220 non-null    float64\n",
      " 19  10-04-2013  221 non-null    float64\n",
      " 20  10-06-2013  479 non-null    int64  \n",
      " 21  10-08-2013  224 non-null    float64\n",
      " 22  10-10-2013  224 non-null    float64\n",
      " 23  10-12-2013  479 non-null    int64  \n",
      "dtypes: float64(13), int64(11)\n",
      "memory usage: 89.9 KB\n"
     ]
    }
   ],
   "source": [
    "sales_df.info()"
   ]
  },
  {
   "cell_type": "markdown",
   "id": "2bef93ae-bf24-4f78-850e-7b4874a962b1",
   "metadata": {},
   "source": [
    "### Handling the missing values \n"
   ]
  },
  {
   "cell_type": "code",
   "execution_count": 313,
   "id": "96cdcba9-c646-4c00-b47b-b252be2be4a3",
   "metadata": {},
   "outputs": [
    {
     "data": {
      "text/plain": [
       "Dress_ID        0\n",
       "29-08-2013      0\n",
       "31-08-2013      0\n",
       "09-02-2013      0\n",
       "09-04-2013      0\n",
       "09-06-2013      0\n",
       "09-08-2013      0\n",
       "09-10-2013      0\n",
       "09-12-2013      1\n",
       "14-09-2013      1\n",
       "16-09-2013      1\n",
       "18-09-2013      1\n",
       "20-09-2013      1\n",
       "22-09-2013      1\n",
       "24-09-2013      0\n",
       "26-09-2013    222\n",
       "28-09-2013      0\n",
       "30-09-2013    257\n",
       "10-02-2013    259\n",
       "10-04-2013    258\n",
       "10-06-2013      0\n",
       "10-08-2013    255\n",
       "10-10-2013    255\n",
       "10-12-2013      0\n",
       "dtype: int64"
      ]
     },
     "execution_count": 313,
     "metadata": {},
     "output_type": "execute_result"
    }
   ],
   "source": [
    "## Lets check for null values in the sales data\n",
    "sales_df.isnull().sum()"
   ]
  },
  {
   "cell_type": "code",
   "execution_count": 315,
   "id": "0929bbed-1501-491d-87bf-b6d5f384f089",
   "metadata": {},
   "outputs": [
    {
     "data": {
      "text/plain": [
       "Dress_ID       0.000000\n",
       "29-08-2013     0.000000\n",
       "31-08-2013     0.000000\n",
       "09-02-2013     0.000000\n",
       "09-04-2013     0.000000\n",
       "09-06-2013     0.000000\n",
       "09-08-2013     0.000000\n",
       "09-10-2013     0.000000\n",
       "09-12-2013     0.208768\n",
       "14-09-2013     0.208768\n",
       "16-09-2013     0.208768\n",
       "18-09-2013     0.208768\n",
       "20-09-2013     0.208768\n",
       "22-09-2013     0.208768\n",
       "24-09-2013     0.000000\n",
       "26-09-2013    46.346555\n",
       "28-09-2013     0.000000\n",
       "30-09-2013    53.653445\n",
       "10-02-2013    54.070981\n",
       "10-04-2013    53.862213\n",
       "10-06-2013     0.000000\n",
       "10-08-2013    53.235908\n",
       "10-10-2013    53.235908\n",
       "10-12-2013     0.000000\n",
       "dtype: float64"
      ]
     },
     "execution_count": 315,
     "metadata": {},
     "output_type": "execute_result"
    }
   ],
   "source": [
    "## Let us find the percentage of null vales for each column\n",
    "(sales_df.isnull().sum()/sales_df.shape[0])*100"
   ]
  },
  {
   "cell_type": "raw",
   "id": "d846486c-9946-4e98-ad5b-15a4b91c38b4",
   "metadata": {},
   "source": [
    "Deleting the columns with missing values because it has more than 40 percent of null values."
   ]
  },
  {
   "cell_type": "code",
   "execution_count": 317,
   "id": "678af9fd-51a7-4d42-8e07-ecfb6434c545",
   "metadata": {},
   "outputs": [],
   "source": [
    "## Removing the columns with null values more than 40 percent\n",
    "sales_df.drop(['26-09-2013','30-09-2013','10-02-2013','10-04-2013','10-08-2013','10-10-2013'], axis = 1, inplace = True)"
   ]
  },
  {
   "cell_type": "code",
   "execution_count": 321,
   "id": "a15e2ecb-0d9f-4f10-ad47-a02747e3e014",
   "metadata": {},
   "outputs": [
    {
     "data": {
      "text/plain": [
       "Dress_ID      0\n",
       "29-08-2013    0\n",
       "31-08-2013    0\n",
       "09-02-2013    0\n",
       "09-04-2013    0\n",
       "09-06-2013    0\n",
       "09-08-2013    0\n",
       "09-10-2013    0\n",
       "09-12-2013    1\n",
       "14-09-2013    1\n",
       "16-09-2013    1\n",
       "18-09-2013    1\n",
       "20-09-2013    1\n",
       "22-09-2013    1\n",
       "24-09-2013    0\n",
       "28-09-2013    0\n",
       "10-06-2013    0\n",
       "10-12-2013    0\n",
       "dtype: int64"
      ]
     },
     "execution_count": 321,
     "metadata": {},
     "output_type": "execute_result"
    }
   ],
   "source": [
    "sales_df.isnull().sum()"
   ]
  },
  {
   "cell_type": "markdown",
   "id": "afa61ef7-db76-41b6-b4a4-ff9d19ed42da",
   "metadata": {},
   "source": [
    "## 3. Merging attribute data with sales data\n"
   ]
  },
  {
   "cell_type": "code",
   "execution_count": 323,
   "id": "1b5d25d0-79f4-4c76-987e-8cb1e00b844c",
   "metadata": {},
   "outputs": [],
   "source": [
    "## Merging attribute data with sales data using merge\n",
    "df = pd.merge(left = attribute_df, right = sales_df, how = 'left', left_on = 'Dress_ID', right_on = 'Dress_ID')"
   ]
  },
  {
   "cell_type": "markdown",
   "id": "91ea4094-1498-4f49-9f7d-f5ac133bd779",
   "metadata": {},
   "source": [
    "## 4. Feature Engineering \n",
    "Summing columns and dropping irrelevent columns that are not needed for analysis here"
   ]
  },
  {
   "cell_type": "markdown",
   "id": "66bffd79-22f1-4dc3-9015-c5f2c43685c2",
   "metadata": {},
   "source": [
    "#### Summing columns season wise"
   ]
  },
  {
   "cell_type": "code",
   "execution_count": 358,
   "id": "a60f1558-d2bb-4afb-bdc6-0e1d8ab280ca",
   "metadata": {},
   "outputs": [
    {
     "data": {
      "text/plain": [
       "Index(['Summer', 'Summer', 'Winter', 'Spring', 'Summer', 'Summer', 'Autumn',\n",
       "       'Winter', 'Autumn', 'Autumn', 'Autumn', 'Autumn', 'Autumn', 'Autumn',\n",
       "       'Autumn', 'Summer', 'Winter'],\n",
       "      dtype='object')"
      ]
     },
     "execution_count": 358,
     "metadata": {},
     "output_type": "execute_result"
    }
   ],
   "source": [
    "## Adding new columns to df with total sales for each season\n",
    "def get_season(month):\n",
    "    if month in [6,7,8]:\n",
    "        return 'Summer'\n",
    "    elif month in [9,10,11]:\n",
    "        return 'Autumn'\n",
    "    elif month in [12,1,2]:\n",
    "        return 'Winter'\n",
    "    elif month in [3,4,5]:\n",
    "        return 'Spring'\n",
    "df_sales_columns = df[['29-08-2013', '31-08-2013', '09-02-2013',\n",
    "       '09-04-2013', '09-06-2013', '09-08-2013', '09-10-2013', '09-12-2013',\n",
    "       '14-09-2013', '16-09-2013', '18-09-2013', '20-09-2013', '22-09-2013',\n",
    "       '24-09-2013', '28-09-2013', '10-06-2013', '10-12-2013']]    \n",
    "\n",
    "list_col = df_sales_columns.columns \n",
    "list_new_col = [ get_season(pd.to_datetime(x, format = '%d-%m-%Y').month) for x in list_col]\n",
    "df_sales_columns.columns = list_new_col\n",
    "df_sales_columns.columns"
   ]
  },
  {
   "cell_type": "code",
   "execution_count": 362,
   "id": "3a9b9f36-466e-49fb-966b-de21d69a36c4",
   "metadata": {},
   "outputs": [],
   "source": [
    "## Summing all the columns for each season to get total sales per season\n",
    "df_sales_columns = df_sales_columns.copy()\n",
    "df_sales_columns['Autumn_total_sales'] = df_sales_columns.loc[:,df_sales_columns.columns=='Autumn'].sum(axis = 1)"
   ]
  },
  {
   "cell_type": "code",
   "execution_count": 366,
   "id": "4d9934ec-52a9-4dfa-9604-1f790d591f5c",
   "metadata": {},
   "outputs": [],
   "source": [
    "df_sales_columns['Summer_total_sales'] = df_sales_columns.loc[:,df_sales_columns.columns=='Summer'].sum(axis = 1)"
   ]
  },
  {
   "cell_type": "code",
   "execution_count": 368,
   "id": "1b19b3af-f632-4065-ab8b-1624529262d7",
   "metadata": {},
   "outputs": [],
   "source": [
    "df_sales_columns['Winter_total_sales'] = df_sales_columns.loc[:,df_sales_columns.columns=='Winter'].sum(axis = 1)\n",
    "df_sales_columns['Spring_total_sales'] = df_sales_columns.loc[:,df_sales_columns.columns=='Spring'].sum(axis = 1)"
   ]
  },
  {
   "cell_type": "code",
   "execution_count": 378,
   "id": "0ca09f37-7855-4fb2-9fed-b31ec50c353e",
   "metadata": {},
   "outputs": [],
   "source": [
    "## Concatenate df_sales_columns with df using pd.concat\n",
    "df = pd.concat([df,df_sales_columns[['Autumn_total_sales',\n",
    "       'Summer_total_sales', 'Winter_total_sales', 'Spring_total_sales']]], axis = 1)\n"
   ]
  },
  {
   "cell_type": "markdown",
   "id": "e0619663-deef-4348-95c9-221eebc27b17",
   "metadata": {},
   "source": [
    "#### Dropping columns with same information"
   ]
  },
  {
   "cell_type": "code",
   "execution_count": 447,
   "id": "1c188564-7022-4aa2-88a9-5918d471750d",
   "metadata": {},
   "outputs": [],
   "source": [
    "df.drop(['29-08-2013', '31-08-2013', '09-02-2013',\n",
    "       '09-04-2013', '09-06-2013', '09-08-2013', '09-10-2013', '09-12-2013',\n",
    "       '14-09-2013', '16-09-2013', '18-09-2013', '20-09-2013', '22-09-2013',\n",
    "       '24-09-2013', '28-09-2013', '10-06-2013', '10-12-2013'], axis = 1, inplace = True)"
   ]
  },
  {
   "cell_type": "markdown",
   "id": "ee3f292c-655c-4889-bbca-9107deb3d648",
   "metadata": {},
   "source": [
    "## 5. Handling missing values column-wise"
   ]
  },
  {
   "cell_type": "code",
   "execution_count": 455,
   "id": "6a31c4e9-636d-4900-9d63-3f54dcfa835c",
   "metadata": {},
   "outputs": [
    {
     "data": {
      "text/plain": [
       "Dress_ID                0\n",
       "Style                   0\n",
       "Price                   2\n",
       "Rating                  0\n",
       "Size                    0\n",
       "Season                  2\n",
       "NeckLine                3\n",
       "SleeveLength            2\n",
       "Material              119\n",
       "FabricType            256\n",
       "Decoration            224\n",
       "Pattern Type          102\n",
       "Recommendation          0\n",
       "Autumn_total_sales      0\n",
       "Summer_total_sales      0\n",
       "Winter_total_sales      0\n",
       "Spring_total_sales      0\n",
       "dtype: int64"
      ]
     },
     "execution_count": 455,
     "metadata": {},
     "output_type": "execute_result"
    }
   ],
   "source": [
    "df.isnull().sum()"
   ]
  },
  {
   "cell_type": "code",
   "execution_count": 459,
   "id": "d8485b76-371e-45a1-9204-1860bf57fa54",
   "metadata": {},
   "outputs": [
    {
     "data": {
      "text/plain": [
       "Dress_ID               0.000000\n",
       "Style                  0.000000\n",
       "Price                  0.417537\n",
       "Rating                 0.000000\n",
       "Size                   0.000000\n",
       "Season                 0.417537\n",
       "NeckLine               0.626305\n",
       "SleeveLength           0.417537\n",
       "Material              24.843424\n",
       "FabricType            53.444676\n",
       "Decoration            46.764092\n",
       "Pattern Type          21.294363\n",
       "Recommendation         0.000000\n",
       "Autumn_total_sales     0.000000\n",
       "Summer_total_sales     0.000000\n",
       "Winter_total_sales     0.000000\n",
       "Spring_total_sales     0.000000\n",
       "dtype: float64"
      ]
     },
     "execution_count": 459,
     "metadata": {},
     "output_type": "execute_result"
    }
   ],
   "source": [
    "## Computing the percentage of missing values for each column\n",
    "(df.isnull().sum()/df.shape[0])*100"
   ]
  },
  {
   "cell_type": "code",
   "execution_count": 464,
   "id": "0749a475-ea95-4934-8891-08ac39801ad3",
   "metadata": {},
   "outputs": [],
   "source": [
    "# Deleting columns with more than 20 % of missing value\n",
    "df.drop(['Material', 'FabricType', 'Decoration', 'Pattern Type'], axis = 1, inplace = True)"
   ]
  },
  {
   "cell_type": "markdown",
   "id": "6bd95c1d-fdc6-4ab4-b58a-75f2f1f3438f",
   "metadata": {},
   "source": [
    "## 6. Standaridizing values in column Size, Season, SleeveLength\n"
   ]
  },
  {
   "cell_type": "code",
   "execution_count": 471,
   "id": "488ae8de-8099-4a03-8f68-dc6cc89d0887",
   "metadata": {},
   "outputs": [],
   "source": [
    "## Updating size values in Size column using replace function for easy ordinal categorical analysis\n",
    "df.Size = df.Size.replace({'M': 'Medium', 'free': 'Free','L':'Large','S':'Small','small':'Small','XL':'Extra Large','s': 'Small'})"
   ]
  },
  {
   "cell_type": "code",
   "execution_count": 474,
   "id": "42a38cce-8591-43d5-a184-4545b1f4b94b",
   "metadata": {},
   "outputs": [
    {
     "data": {
      "text/plain": [
       "Season\n",
       "Summer    154\n",
       "Winter    139\n",
       "Spring    118\n",
       "Autumn     66\n",
       "Name: count, dtype: int64"
      ]
     },
     "execution_count": 474,
     "metadata": {},
     "output_type": "execute_result"
    }
   ],
   "source": [
    "## Spellcheck column Season\n",
    "df.Season.value_counts()"
   ]
  },
  {
   "cell_type": "code",
   "execution_count": 407,
   "id": "d484dc00-5361-4657-9a84-f4b1e372462b",
   "metadata": {},
   "outputs": [],
   "source": [
    "df.Season = df.Season.replace({'Automn': 'Autumn', 'winter': 'Winter', 'spring': 'Spring'})"
   ]
  },
  {
   "cell_type": "code",
   "execution_count": 182,
   "id": "f86e302e-4996-4f2f-911f-6687f0e972ab",
   "metadata": {},
   "outputs": [
    {
     "data": {
      "text/html": [
       "<div>\n",
       "<style scoped>\n",
       "    .dataframe tbody tr th:only-of-type {\n",
       "        vertical-align: middle;\n",
       "    }\n",
       "\n",
       "    .dataframe tbody tr th {\n",
       "        vertical-align: top;\n",
       "    }\n",
       "\n",
       "    .dataframe thead th {\n",
       "        text-align: right;\n",
       "    }\n",
       "</style>\n",
       "<table border=\"1\" class=\"dataframe\">\n",
       "  <thead>\n",
       "    <tr style=\"text-align: right;\">\n",
       "      <th></th>\n",
       "      <th>name</th>\n",
       "      <th>09-02-2013</th>\n",
       "      <th>31-08-2013</th>\n",
       "      <th>1-08-2013</th>\n",
       "    </tr>\n",
       "  </thead>\n",
       "  <tbody>\n",
       "    <tr>\n",
       "      <th>0</th>\n",
       "      <td>a</td>\n",
       "      <td>12</td>\n",
       "      <td>45</td>\n",
       "      <td>12</td>\n",
       "    </tr>\n",
       "    <tr>\n",
       "      <th>1</th>\n",
       "      <td>b</td>\n",
       "      <td>24</td>\n",
       "      <td>67</td>\n",
       "      <td>n34</td>\n",
       "    </tr>\n",
       "    <tr>\n",
       "      <th>2</th>\n",
       "      <td>c</td>\n",
       "      <td></td>\n",
       "      <td>dont</td>\n",
       "      <td>32</td>\n",
       "    </tr>\n",
       "    <tr>\n",
       "      <th>3</th>\n",
       "      <td>d</td>\n",
       "      <td>text</td>\n",
       "      <td>11</td>\n",
       "      <td>45</td>\n",
       "    </tr>\n",
       "  </tbody>\n",
       "</table>\n",
       "</div>"
      ],
      "text/plain": [
       "  name 09-02-2013 31-08-2013 1-08-2013\n",
       "0    a         12         45        12\n",
       "1    b         24         67       n34\n",
       "2    c                  dont        32\n",
       "3    d       text         11        45"
      ]
     },
     "execution_count": 182,
     "metadata": {},
     "output_type": "execute_result"
    }
   ],
   "source": [
    "df = pd.DataFrame({'name':['a','b','c','d'],'09-02-2013':['12',24,'','text'],'31-08-2013':[45,67,'dont','11'],'1-08-2013':[12,'n34','32',45]})\n",
    "df"
   ]
  },
  {
   "cell_type": "code",
   "execution_count": 184,
   "id": "4f1d3145-3ebe-4fc7-9e73-ae9e15b60396",
   "metadata": {},
   "outputs": [
    {
     "name": "stdout",
     "output_type": "stream",
     "text": [
      "<class 'pandas.core.frame.DataFrame'>\n",
      "RangeIndex: 4 entries, 0 to 3\n",
      "Data columns (total 4 columns):\n",
      " #   Column      Non-Null Count  Dtype \n",
      "---  ------      --------------  ----- \n",
      " 0   name        4 non-null      object\n",
      " 1   09-02-2013  4 non-null      object\n",
      " 2   31-08-2013  4 non-null      object\n",
      " 3   1-08-2013   4 non-null      object\n",
      "dtypes: object(4)\n",
      "memory usage: 260.0+ bytes\n"
     ]
    }
   ],
   "source": [
    "df.info()"
   ]
  },
  {
   "cell_type": "code",
   "execution_count": 505,
   "id": "f4fff92f-b348-4933-a360-88cbdcd7f898",
   "metadata": {},
   "outputs": [
    {
     "data": {
      "text/plain": [
       "array(['sleeveless', 'Petal', 'full', 'butterfly', 'short',\n",
       "       'threequarter', 'halfsleeve', 'cap-sleeves', 'turndowncollor',\n",
       "       'half', 'urndowncollor', nan], dtype=object)"
      ]
     },
     "execution_count": 505,
     "metadata": {},
     "output_type": "execute_result"
    }
   ],
   "source": [
    "## Spellcheck for column SleeveLength\n",
    "df.SleeveLength.value_counts()\n",
    "df.SleeveLength.replace({'sleveless': 'sleeveless', \n",
    "                         'thressqatar': 'threequarter',\n",
    "                         'sleeevless': 'sleeveless',\n",
    "                         'sleevless': 'sleeveless',\n",
    "                         'threequater': 'threequarter',\n",
    "                         'capsleeves': 'cap-sleeves'\n",
    "                        })\n",
    "df.SleeveLength.unique()"
   ]
  },
  {
   "cell_type": "code",
   "execution_count": 507,
   "id": "0a47d555-f3bc-4652-bae2-8d5ebc846d7a",
   "metadata": {},
   "outputs": [
    {
     "data": {
      "text/plain": [
       "SleeveLength\n",
       "sleeveless        223\n",
       "full               94\n",
       "short              92\n",
       "halfsleeve         32\n",
       "threequarter       26\n",
       "cap-sleeves         5\n",
       "Petal               1\n",
       "butterfly           1\n",
       "turndowncollor      1\n",
       "half                1\n",
       "urndowncollor       1\n",
       "Name: count, dtype: int64"
      ]
     },
     "execution_count": 507,
     "metadata": {},
     "output_type": "execute_result"
    }
   ],
   "source": [
    "df.SleeveLength.value_counts()"
   ]
  },
  {
   "cell_type": "code",
   "execution_count": 513,
   "id": "94a51010-bcf7-4daf-b290-32948bbc4922",
   "metadata": {},
   "outputs": [],
   "source": [
    "# Replacing turndowncollor, urndowncollor  with nan \n",
    "df.SleeveLength.replace(['turndowncollor', 'urndowncollor'], np.nan, inplace = True)"
   ]
  },
  {
   "cell_type": "code",
   "execution_count": 515,
   "id": "510c464f-0e65-4c25-8619-3aca358d4a1f",
   "metadata": {},
   "outputs": [
    {
     "data": {
      "text/plain": [
       "SleeveLength\n",
       "sleeveless      223\n",
       "full             94\n",
       "short            92\n",
       "halfsleeve       32\n",
       "threequarter     26\n",
       "cap-sleeves       5\n",
       "Petal             1\n",
       "butterfly         1\n",
       "half              1\n",
       "Name: count, dtype: int64"
      ]
     },
     "execution_count": 515,
     "metadata": {},
     "output_type": "execute_result"
    }
   ],
   "source": [
    "df.SleeveLength.value_counts()"
   ]
  },
  {
   "cell_type": "markdown",
   "id": "66125e14-8e86-43e6-b773-685c768a6e98",
   "metadata": {},
   "source": [
    "## Univariate Analysis"
   ]
  },
  {
   "cell_type": "markdown",
   "id": "6042bde5-a782-479c-aa9e-1c166ec682b5",
   "metadata": {},
   "source": [
    "### Categorical unordered analysis\n"
   ]
  },
  {
   "cell_type": "code",
   "execution_count": 557,
   "id": "0a44e9b5-d9b0-4d6c-b320-c9ac693fa8c4",
   "metadata": {},
   "outputs": [],
   "source": [
    "df = pd.concat([df,attribute_df[['Material', 'FabricType', 'Decoration', 'Pattern Type']]], axis = 1) ##Adding last four features again\n"
   ]
  },
  {
   "cell_type": "code",
   "execution_count": null,
   "id": "d66f4ff8-3ef7-476d-9aa4-1553d33f8be9",
   "metadata": {},
   "outputs": [],
   "source": [
    "df['total_sales'] = df.Autumn_total_sales + df.Summer_total_sales +\tdf.Winter_total_sales +\tdf.Spring_total_sales\t\n",
    "df.columns"
   ]
  },
  {
   "cell_type": "markdown",
   "id": "c1dfb8a8-6148-4251-b04e-b491fbd17c3b",
   "metadata": {},
   "source": [
    "#### Style column"
   ]
  },
  {
   "cell_type": "code",
   "execution_count": 541,
   "id": "04ad6ae1-d32d-40a4-bded-33897bea481e",
   "metadata": {},
   "outputs": [
    {
     "data": {
      "text/plain": [
       "array(['Sexy', 'Casual', 'vintage', 'Brief', 'cute', 'bohemian', 'Flare',\n",
       "       'party', 'sexy', 'Novelty', 'work', 'OL', 'fashion'], dtype=object)"
      ]
     },
     "execution_count": 541,
     "metadata": {},
     "output_type": "execute_result"
    }
   ],
   "source": [
    "df.Style.unique()"
   ]
  },
  {
   "cell_type": "code",
   "execution_count": 578,
   "id": "8b626ee2-5dc3-4584-80aa-eceb99c23949",
   "metadata": {},
   "outputs": [
    {
     "data": {
      "text/html": [
       "<div>\n",
       "<style scoped>\n",
       "    .dataframe tbody tr th:only-of-type {\n",
       "        vertical-align: middle;\n",
       "    }\n",
       "\n",
       "    .dataframe tbody tr th {\n",
       "        vertical-align: top;\n",
       "    }\n",
       "\n",
       "    .dataframe thead th {\n",
       "        text-align: right;\n",
       "    }\n",
       "</style>\n",
       "<table border=\"1\" class=\"dataframe\">\n",
       "  <thead>\n",
       "    <tr style=\"text-align: right;\">\n",
       "      <th></th>\n",
       "      <th>Style</th>\n",
       "      <th>total_sales</th>\n",
       "    </tr>\n",
       "  </thead>\n",
       "  <tbody>\n",
       "    <tr>\n",
       "      <th>0</th>\n",
       "      <td>Brief</td>\n",
       "      <td>139628.0</td>\n",
       "    </tr>\n",
       "    <tr>\n",
       "      <th>1</th>\n",
       "      <td>Casual</td>\n",
       "      <td>1105728.0</td>\n",
       "    </tr>\n",
       "    <tr>\n",
       "      <th>2</th>\n",
       "      <td>Flare</td>\n",
       "      <td>2089.0</td>\n",
       "    </tr>\n",
       "    <tr>\n",
       "      <th>3</th>\n",
       "      <td>Novelty</td>\n",
       "      <td>13286.0</td>\n",
       "    </tr>\n",
       "    <tr>\n",
       "      <th>4</th>\n",
       "      <td>OL</td>\n",
       "      <td>289.0</td>\n",
       "    </tr>\n",
       "    <tr>\n",
       "      <th>5</th>\n",
       "      <td>Sexy</td>\n",
       "      <td>452794.0</td>\n",
       "    </tr>\n",
       "    <tr>\n",
       "      <th>6</th>\n",
       "      <td>bohemian</td>\n",
       "      <td>69117.0</td>\n",
       "    </tr>\n",
       "    <tr>\n",
       "      <th>7</th>\n",
       "      <td>cute</td>\n",
       "      <td>371044.0</td>\n",
       "    </tr>\n",
       "    <tr>\n",
       "      <th>8</th>\n",
       "      <td>fashion</td>\n",
       "      <td>395.0</td>\n",
       "    </tr>\n",
       "    <tr>\n",
       "      <th>9</th>\n",
       "      <td>party</td>\n",
       "      <td>151990.0</td>\n",
       "    </tr>\n",
       "    <tr>\n",
       "      <th>10</th>\n",
       "      <td>sexy</td>\n",
       "      <td>93449.0</td>\n",
       "    </tr>\n",
       "    <tr>\n",
       "      <th>11</th>\n",
       "      <td>vintage</td>\n",
       "      <td>180574.0</td>\n",
       "    </tr>\n",
       "    <tr>\n",
       "      <th>12</th>\n",
       "      <td>work</td>\n",
       "      <td>93095.0</td>\n",
       "    </tr>\n",
       "  </tbody>\n",
       "</table>\n",
       "</div>"
      ],
      "text/plain": [
       "       Style  total_sales\n",
       "0      Brief     139628.0\n",
       "1     Casual    1105728.0\n",
       "2      Flare       2089.0\n",
       "3    Novelty      13286.0\n",
       "4         OL        289.0\n",
       "5       Sexy     452794.0\n",
       "6   bohemian      69117.0\n",
       "7       cute     371044.0\n",
       "8    fashion        395.0\n",
       "9      party     151990.0\n",
       "10      sexy      93449.0\n",
       "11   vintage     180574.0\n",
       "12      work      93095.0"
      ]
     },
     "execution_count": 578,
     "metadata": {},
     "output_type": "execute_result"
    }
   ],
   "source": [
    "style_group = df['total_sales'].groupby(df.Style).sum().reset_index()\n",
    "style_group"
   ]
  },
  {
   "cell_type": "code",
   "execution_count": 582,
   "id": "bf1b6f72-6d87-4bd0-b08a-f38a779f96f8",
   "metadata": {},
   "outputs": [
    {
     "data": {
      "text/html": [
       "<div>\n",
       "<style scoped>\n",
       "    .dataframe tbody tr th:only-of-type {\n",
       "        vertical-align: middle;\n",
       "    }\n",
       "\n",
       "    .dataframe tbody tr th {\n",
       "        vertical-align: top;\n",
       "    }\n",
       "\n",
       "    .dataframe thead th {\n",
       "        text-align: right;\n",
       "    }\n",
       "</style>\n",
       "<table border=\"1\" class=\"dataframe\">\n",
       "  <thead>\n",
       "    <tr style=\"text-align: right;\">\n",
       "      <th></th>\n",
       "      <th>Style</th>\n",
       "      <th>total_sales</th>\n",
       "    </tr>\n",
       "  </thead>\n",
       "  <tbody>\n",
       "    <tr>\n",
       "      <th>2</th>\n",
       "      <td>Flare</td>\n",
       "      <td>2089.0</td>\n",
       "    </tr>\n",
       "    <tr>\n",
       "      <th>3</th>\n",
       "      <td>Novelty</td>\n",
       "      <td>13286.0</td>\n",
       "    </tr>\n",
       "    <tr>\n",
       "      <th>4</th>\n",
       "      <td>OL</td>\n",
       "      <td>289.0</td>\n",
       "    </tr>\n",
       "    <tr>\n",
       "      <th>8</th>\n",
       "      <td>fashion</td>\n",
       "      <td>395.0</td>\n",
       "    </tr>\n",
       "  </tbody>\n",
       "</table>\n",
       "</div>"
      ],
      "text/plain": [
       "     Style  total_sales\n",
       "2    Flare       2089.0\n",
       "3  Novelty      13286.0\n",
       "4       OL        289.0\n",
       "8  fashion        395.0"
      ]
     },
     "execution_count": 582,
     "metadata": {},
     "output_type": "execute_result"
    }
   ],
   "source": [
    "style_group.loc[style_group.total_sales < 50000]"
   ]
  },
  {
   "cell_type": "code",
   "execution_count": null,
   "id": "764e1215-92e8-4540-ae0e-58fee33eb492",
   "metadata": {},
   "outputs": [],
   "source": [
    "#replacing the categories with sales < 50000 with category named 'others'\n",
    "df.Style.replace(['Flare', 'Novelty','OL','fashion'], 'others')"
   ]
  },
  {
   "cell_type": "code",
   "execution_count": 588,
   "id": "7dd43352-6c2a-4865-9ef1-351316d2b8ab",
   "metadata": {},
   "outputs": [
    {
     "data": {
      "text/plain": [
       "array(['Sexy', 'Casual', 'vintage', 'Brief', 'cute', 'bohemian', 'others',\n",
       "       'party', 'sexy', 'work'], dtype=object)"
      ]
     },
     "execution_count": 588,
     "metadata": {},
     "output_type": "execute_result"
    }
   ],
   "source": [
    "df.Style.unique()"
   ]
  },
  {
   "cell_type": "code",
   "execution_count": 594,
   "id": "206707fe-2660-4cb7-b008-4c579c47b71b",
   "metadata": {},
   "outputs": [
    {
     "data": {
      "text/plain": [
       "Style\n",
       "Casual      45.7\n",
       "Sexy        13.8\n",
       "party       10.6\n",
       "cute         9.2\n",
       "vintage      5.2\n",
       "bohemian     4.8\n",
       "Brief        3.5\n",
       "work         3.5\n",
       "others       2.1\n",
       "sexy         1.5\n",
       "Name: proportion, dtype: float64"
      ]
     },
     "execution_count": 594,
     "metadata": {},
     "output_type": "execute_result"
    }
   ],
   "source": [
    "# Computing the percentage of each category of style\n",
    "np.round(df.Style.value_counts(normalize = True)*100,1)"
   ]
  },
  {
   "cell_type": "markdown",
   "id": "bbb05608-45af-4542-bc74-dc7fb2f2aefd",
   "metadata": {},
   "source": [
    "#### neckline column"
   ]
  },
  {
   "cell_type": "code",
   "execution_count": 615,
   "id": "20631dba-5d01-48ee-bed6-c2cc92a01227",
   "metadata": {},
   "outputs": [],
   "source": [
    "# Spellcheck for each category \n",
    "df.NeckLine.replace({'sweetheart':'Sweetheart'})"
   ]
  },
  {
   "cell_type": "code",
   "execution_count": 629,
   "id": "a725437d-0aea-4d90-b888-2f9ca4d44289",
   "metadata": {},
   "outputs": [],
   "source": [
    "##replacing the categories with sales < 50000 with category named 'others' across all seasons\n",
    "df.total_sales.groupby(df.NeckLine).sum()\n",
    "df.NeckLine.replace(['peterpan-collor', \n",
    "        'mandarin-collor', 'open'\n",
    "       , 'Sweetheart', np.nan, 'Scoop', 'halter',\n",
    "       'backless', 'bowneck'], 'others')"
   ]
  },
  {
   "cell_type": "code",
   "execution_count": 673,
   "id": "1cdee41b-3f60-43d2-b2c0-28c4bdfe8343",
   "metadata": {},
   "outputs": [
    {
     "data": {
      "text/plain": [
       "array(['o-neck', 'v-neck', 'boat-neck', 'others', 'ruffled',\n",
       "       'turndowncollor', 'slash-neck', 'sqare-collor', 'sweetheart'],\n",
       "      dtype=object)"
      ]
     },
     "execution_count": 673,
     "metadata": {},
     "output_type": "execute_result"
    }
   ],
   "source": [
    "df.NeckLine.unique()"
   ]
  },
  {
   "cell_type": "markdown",
   "id": "9aef5b9c-97c8-40cf-89b1-7feb206e7384",
   "metadata": {},
   "source": [
    "#### SleeveLength column"
   ]
  },
  {
   "cell_type": "code",
   "execution_count": 669,
   "id": "acc86c61-3a6a-4ac8-89c1-652ae2d57cc8",
   "metadata": {},
   "outputs": [],
   "source": [
    "# Group \"Sleevelength\" categories into \"others\" which have less than 50000 sales across all the seasons.\n",
    "df.total_sales.groupby(df.SleeveLength).sum()\n",
    "df.SleeveLength.replace(['Petal', 'butterfly','cap-sleeves', np.nan, 'half'], 'others', inplace = True)\n"
   ]
  },
  {
   "cell_type": "code",
   "execution_count": 675,
   "id": "6ae3cd7a-020e-401a-a588-3893902e0a75",
   "metadata": {},
   "outputs": [
    {
     "data": {
      "text/plain": [
       "array(['sleeveless', 'others', 'full', 'short', 'threequarter',\n",
       "       'halfsleeve'], dtype=object)"
      ]
     },
     "execution_count": 675,
     "metadata": {},
     "output_type": "execute_result"
    }
   ],
   "source": [
    "df.SleeveLength.unique()"
   ]
  },
  {
   "cell_type": "markdown",
   "id": "396bbb3d-7ded-48b8-8552-de025177be13",
   "metadata": {},
   "source": [
    "#### Material column"
   ]
  },
  {
   "cell_type": "code",
   "execution_count": 689,
   "id": "e8a3752a-e8ca-4c02-9701-4318e4a9a9a9",
   "metadata": {},
   "outputs": [
    {
     "data": {
      "text/plain": [
       "0             others\n",
       "1         microfiber\n",
       "2           polyster\n",
       "3               silk\n",
       "4      chiffonfabric\n",
       "5             others\n",
       "6             cotton\n",
       "7             cotton\n",
       "8              nylon\n",
       "9           polyster\n",
       "10             nylon\n",
       "11            others\n",
       "12            cotton\n",
       "13            cotton\n",
       "14            others\n",
       "15            cotton\n",
       "16            others\n",
       "17            cotton\n",
       "18          milksilk\n",
       "19            cotton\n",
       "20            others\n",
       "21            cotton\n",
       "22            cotton\n",
       "23          polyster\n",
       "24            cotton\n",
       "25            others\n",
       "26            cotton\n",
       "27          polyster\n",
       "28     chiffonfabric\n",
       "29          polyster\n",
       "30              silk\n",
       "31            others\n",
       "32            others\n",
       "33            others\n",
       "34            cotton\n",
       "35            others\n",
       "36            cotton\n",
       "37            cotton\n",
       "38            cotton\n",
       "39            cotton\n",
       "40             rayon\n",
       "41            others\n",
       "42            cotton\n",
       "43            cotton\n",
       "44            others\n",
       "45          polyster\n",
       "46            cotton\n",
       "47          milksilk\n",
       "48            others\n",
       "49            others\n",
       "50          milksilk\n",
       "51          polyster\n",
       "52          polyster\n",
       "53          polyster\n",
       "54            cotton\n",
       "55            cotton\n",
       "56            others\n",
       "57          polyster\n",
       "58          polyster\n",
       "59             rayon\n",
       "60            cotton\n",
       "61          polyster\n",
       "62            others\n",
       "63            cotton\n",
       "64            cotton\n",
       "65              silk\n",
       "66          polyster\n",
       "67          polyster\n",
       "68          polyster\n",
       "69            cotton\n",
       "70          polyster\n",
       "71            cotton\n",
       "72            cotton\n",
       "73          polyster\n",
       "74     chiffonfabric\n",
       "75            cotton\n",
       "76            cotton\n",
       "77            others\n",
       "78          polyster\n",
       "79          polyster\n",
       "80          polyster\n",
       "81            cotton\n",
       "82            others\n",
       "83          polyster\n",
       "84            others\n",
       "85            others\n",
       "86             rayon\n",
       "87            others\n",
       "88            cotton\n",
       "89            cotton\n",
       "90            cotton\n",
       "91            cotton\n",
       "92              silk\n",
       "93            others\n",
       "94              silk\n",
       "95              silk\n",
       "96            others\n",
       "97            others\n",
       "98            cotton\n",
       "99            cotton\n",
       "100           others\n",
       "101         polyster\n",
       "102           others\n",
       "103           cotton\n",
       "104           cotton\n",
       "105         polyster\n",
       "106           cotton\n",
       "107           cotton\n",
       "108           others\n",
       "109           others\n",
       "110           cotton\n",
       "111         polyster\n",
       "112           others\n",
       "113           others\n",
       "114           others\n",
       "115           cotton\n",
       "116           cotton\n",
       "117             silk\n",
       "118         polyster\n",
       "119              mix\n",
       "120           others\n",
       "121           others\n",
       "122           cotton\n",
       "123           cotton\n",
       "124           others\n",
       "125           cotton\n",
       "126           others\n",
       "127           cotton\n",
       "128           others\n",
       "129         polyster\n",
       "130           others\n",
       "131    chiffonfabric\n",
       "132           others\n",
       "133             silk\n",
       "134         polyster\n",
       "135         polyster\n",
       "136           cotton\n",
       "137           others\n",
       "138           others\n",
       "139    chiffonfabric\n",
       "140           others\n",
       "141           cotton\n",
       "142           cotton\n",
       "143           others\n",
       "144           cotton\n",
       "145         polyster\n",
       "146    chiffonfabric\n",
       "147           cotton\n",
       "148    chiffonfabric\n",
       "149           cotton\n",
       "150           cotton\n",
       "151           cotton\n",
       "152             silk\n",
       "153           others\n",
       "154           others\n",
       "155             silk\n",
       "156           others\n",
       "157           others\n",
       "158           cotton\n",
       "159              mix\n",
       "160           others\n",
       "161           cotton\n",
       "162           cotton\n",
       "163              mix\n",
       "164         polyster\n",
       "165           others\n",
       "166           others\n",
       "167              mix\n",
       "168              mix\n",
       "169              mix\n",
       "170          spandex\n",
       "171           others\n",
       "172         polyster\n",
       "173             silk\n",
       "174              mix\n",
       "175           cotton\n",
       "176           cotton\n",
       "177           cotton\n",
       "178            nylon\n",
       "179           cotton\n",
       "180         polyster\n",
       "181             silk\n",
       "182              mix\n",
       "183           cotton\n",
       "184         polyster\n",
       "185           cotton\n",
       "186           cotton\n",
       "187              mix\n",
       "188           cotton\n",
       "189           cotton\n",
       "190           cotton\n",
       "191           others\n",
       "192         polyster\n",
       "193           others\n",
       "194           cotton\n",
       "195         polyster\n",
       "196         polyster\n",
       "197           cotton\n",
       "198           others\n",
       "199    chiffonfabric\n",
       "200           cotton\n",
       "201           cotton\n",
       "202           others\n",
       "203            nylon\n",
       "204           cotton\n",
       "205            nylon\n",
       "206          spandex\n",
       "207           others\n",
       "208           others\n",
       "209           cotton\n",
       "210           others\n",
       "211           others\n",
       "212           cotton\n",
       "213           cotton\n",
       "214           others\n",
       "215           others\n",
       "216           cotton\n",
       "217           cotton\n",
       "218         polyster\n",
       "219         polyster\n",
       "220         polyster\n",
       "221           others\n",
       "222           others\n",
       "223           cotton\n",
       "224           cotton\n",
       "225    chiffonfabric\n",
       "226    chiffonfabric\n",
       "227         polyster\n",
       "228    chiffonfabric\n",
       "229         polyster\n",
       "230           others\n",
       "231             silk\n",
       "232             silk\n",
       "233           others\n",
       "234         polyster\n",
       "235         polyster\n",
       "236           others\n",
       "237           others\n",
       "238           cotton\n",
       "239           cotton\n",
       "240           others\n",
       "241           cotton\n",
       "242         polyster\n",
       "243    chiffonfabric\n",
       "244           cotton\n",
       "245    chiffonfabric\n",
       "246         polyster\n",
       "247         polyster\n",
       "248           others\n",
       "249           cotton\n",
       "250           others\n",
       "251           others\n",
       "252            nylon\n",
       "253         polyster\n",
       "254           others\n",
       "255           others\n",
       "256           others\n",
       "257           others\n",
       "258           others\n",
       "259         polyster\n",
       "260       microfiber\n",
       "261         polyster\n",
       "262             silk\n",
       "263           others\n",
       "264           others\n",
       "265             silk\n",
       "266           others\n",
       "267           others\n",
       "268           others\n",
       "269           cotton\n",
       "270           others\n",
       "271           others\n",
       "272         polyster\n",
       "273           others\n",
       "274           others\n",
       "275            rayon\n",
       "276           others\n",
       "277           others\n",
       "278           cotton\n",
       "279          spandex\n",
       "280           others\n",
       "281         polyster\n",
       "282             silk\n",
       "283           others\n",
       "284           others\n",
       "285       microfiber\n",
       "286           others\n",
       "287            nylon\n",
       "288           others\n",
       "289           cotton\n",
       "290           others\n",
       "291           cotton\n",
       "292           others\n",
       "293           others\n",
       "294           others\n",
       "295           others\n",
       "296         polyster\n",
       "297           others\n",
       "298           cotton\n",
       "299         polyster\n",
       "300    chiffonfabric\n",
       "301           others\n",
       "302            nylon\n",
       "303           others\n",
       "304           cotton\n",
       "305    chiffonfabric\n",
       "306           others\n",
       "307         polyster\n",
       "308           others\n",
       "309            rayon\n",
       "310            rayon\n",
       "311           cotton\n",
       "312         polyster\n",
       "313           cotton\n",
       "314         polyster\n",
       "315         polyster\n",
       "316            nylon\n",
       "317             silk\n",
       "318    chiffonfabric\n",
       "319           cotton\n",
       "320         polyster\n",
       "321           others\n",
       "322           cotton\n",
       "323             silk\n",
       "324         polyster\n",
       "325         polyster\n",
       "326           cotton\n",
       "327         polyster\n",
       "328    chiffonfabric\n",
       "329             silk\n",
       "330         polyster\n",
       "331           cotton\n",
       "332           cotton\n",
       "333         milksilk\n",
       "334           others\n",
       "335            nylon\n",
       "336           others\n",
       "337         polyster\n",
       "338             silk\n",
       "339           cotton\n",
       "340           others\n",
       "341    chiffonfabric\n",
       "342    chiffonfabric\n",
       "343         polyster\n",
       "344           cotton\n",
       "345           others\n",
       "346           cotton\n",
       "347         polyster\n",
       "348    chiffonfabric\n",
       "349           cotton\n",
       "350         polyster\n",
       "351         polyster\n",
       "352         polyster\n",
       "353         polyster\n",
       "354         polyster\n",
       "355            rayon\n",
       "356           cotton\n",
       "357         polyster\n",
       "358           cotton\n",
       "359           others\n",
       "360           cotton\n",
       "361           cotton\n",
       "362           others\n",
       "363           cotton\n",
       "364          spandex\n",
       "365           others\n",
       "366           cotton\n",
       "367             silk\n",
       "368    chiffonfabric\n",
       "369           cotton\n",
       "370           others\n",
       "371         polyster\n",
       "372           cotton\n",
       "373           cotton\n",
       "374           others\n",
       "375           others\n",
       "376           cotton\n",
       "377    chiffonfabric\n",
       "378          spandex\n",
       "379           others\n",
       "380           others\n",
       "381         polyster\n",
       "382           cotton\n",
       "383         polyster\n",
       "384         polyster\n",
       "385           cotton\n",
       "386           others\n",
       "387           cotton\n",
       "388           cotton\n",
       "389         polyster\n",
       "390         polyster\n",
       "391         polyster\n",
       "392         polyster\n",
       "393         polyster\n",
       "394           others\n",
       "395           cotton\n",
       "396         milksilk\n",
       "397         polyster\n",
       "398              mix\n",
       "399           others\n",
       "400           cotton\n",
       "401           cotton\n",
       "402            rayon\n",
       "403           others\n",
       "404         polyster\n",
       "405           cotton\n",
       "406           cotton\n",
       "407           cotton\n",
       "408           others\n",
       "409           cotton\n",
       "410           cotton\n",
       "411           cotton\n",
       "412         polyster\n",
       "413           cotton\n",
       "414           cotton\n",
       "415           others\n",
       "416           cotton\n",
       "417           others\n",
       "418           others\n",
       "419           others\n",
       "420           others\n",
       "421         polyster\n",
       "422            rayon\n",
       "423           cotton\n",
       "424           cotton\n",
       "425              mix\n",
       "426         polyster\n",
       "427           others\n",
       "428           others\n",
       "429              mix\n",
       "430           cotton\n",
       "431           others\n",
       "432           others\n",
       "433           cotton\n",
       "434           others\n",
       "435         polyster\n",
       "436           cotton\n",
       "437           others\n",
       "438           others\n",
       "439           others\n",
       "440           others\n",
       "441             silk\n",
       "442           cotton\n",
       "443           cotton\n",
       "444           others\n",
       "445           cotton\n",
       "446           others\n",
       "447           cotton\n",
       "448         polyster\n",
       "449         polyster\n",
       "450           others\n",
       "451           others\n",
       "452         polyster\n",
       "453           others\n",
       "454         polyster\n",
       "455           cotton\n",
       "456           cotton\n",
       "457           others\n",
       "458           cotton\n",
       "459             silk\n",
       "460           cotton\n",
       "461    chiffonfabric\n",
       "462            rayon\n",
       "463             silk\n",
       "464           cotton\n",
       "465           others\n",
       "466         polyster\n",
       "467           cotton\n",
       "468    chiffonfabric\n",
       "469           cotton\n",
       "470         polyster\n",
       "471           cotton\n",
       "472           others\n",
       "473           cotton\n",
       "474           others\n",
       "475         polyster\n",
       "476           cotton\n",
       "477             silk\n",
       "478           cotton\n",
       "Name: Material, dtype: object"
      ]
     },
     "execution_count": 689,
     "metadata": {},
     "output_type": "execute_result"
    }
   ],
   "source": [
    "#replacing the categories with sales < 25000 with category named 'others' across all seasons\n",
    "df.total_sales.groupby(df.Material).sum()\n",
    "df.Material.replace([np.nan,  \n",
    "       'other',  'linen', 'lycra', \n",
    "       'acrylic', 'lace', 'modal', 'cashmere', 'viscos',\n",
    "       'sill', 'wool', 'model', 'shiffon'], 'others')"
   ]
  },
  {
   "cell_type": "code",
   "execution_count": 691,
   "id": "c6720308-4876-4839-957e-a987f597a2da",
   "metadata": {},
   "outputs": [
    {
     "data": {
      "text/plain": [
       "array(['others', 'microfiber', 'polyster', 'silk', 'chiffonfabric',\n",
       "       'cotton', 'nylon', 'milksilk', 'rayon', 'mix', 'spandex'],\n",
       "      dtype=object)"
      ]
     },
     "execution_count": 691,
     "metadata": {},
     "output_type": "execute_result"
    }
   ],
   "source": [
    "df.Material.unique()"
   ]
  },
  {
   "cell_type": "markdown",
   "id": "b25a5d38-4537-4762-adee-c46d88570f99",
   "metadata": {},
   "source": [
    "#### FabricType column"
   ]
  },
  {
   "cell_type": "code",
   "execution_count": 707,
   "id": "8665d285-da1a-4235-a699-ce8e560c04af",
   "metadata": {},
   "outputs": [
    {
     "data": {
      "text/plain": [
       "FabricType\n",
       "chiffon       1008205.0\n",
       "broadcloth     119998.0\n",
       "jersey         119952.0\n",
       "worsted         80093.0\n",
       "shiffon         27486.0\n",
       "woolen          16006.0\n",
       "flannel         14733.0\n",
       "satin           11403.0\n",
       "Corduroy        10866.0\n",
       "sattin           9673.0\n",
       "flannael         6835.0\n",
       "batik            4021.0\n",
       "wollen           2858.0\n",
       "dobby            2761.0\n",
       "tulle            2119.0\n",
       "lace             2082.0\n",
       "poplin           1443.0\n",
       "other            1251.0\n",
       "organza           762.0\n",
       "terry             373.0\n",
       "knitting           39.0\n",
       "knitted            14.0\n",
       "Name: total_sales, dtype: float64"
      ]
     },
     "execution_count": 707,
     "metadata": {},
     "output_type": "execute_result"
    }
   ],
   "source": [
    "# replacing all the categories to \"Others\" which have less than 25000 sales across all the seasons.\n",
    "df.total_sales.groupby(df.FabricType).sum().sort_values(ascending=False)\n"
   ]
  },
  {
   "cell_type": "code",
   "execution_count": 713,
   "id": "81f45d5b-6504-4bd4-bdb0-90e4a8816af1",
   "metadata": {},
   "outputs": [],
   "source": [
    "df.FabricType = df.FabricType.replace(['sattin','flannael','batik','wollen','dobby','tulle','lace',\n",
    "                                       'poplin','other','organza','terry','knitting','knitted',np.nan], 'others')"
   ]
  },
  {
   "cell_type": "markdown",
   "id": "22be593f-4a23-4891-971b-5ce5520fe2cf",
   "metadata": {},
   "source": [
    "#### Pattern Type column"
   ]
  },
  {
   "cell_type": "code",
   "execution_count": 726,
   "id": "75bc57f2-28ef-40ca-a63e-b557594948fe",
   "metadata": {},
   "outputs": [
    {
     "data": {
      "text/plain": [
       "Pattern Type\n",
       "solid        1134133.0\n",
       "print         403025.0\n",
       "dot           245091.0\n",
       "animal        211273.0\n",
       "patchwork     190498.0\n",
       "geometric     114335.0\n",
       "striped        61945.0\n",
       "leopard        25267.0\n",
       "floral         10614.0\n",
       "none            5991.0\n",
       "splice          5112.0\n",
       "character       3738.0\n",
       "leapord         3017.0\n",
       "plaid           1369.0\n",
       "Name: total_sales, dtype: float64"
      ]
     },
     "execution_count": 726,
     "metadata": {},
     "output_type": "execute_result"
    }
   ],
   "source": [
    "# replacing all the categories to \"Others\" which have less than 25000 sales across all the seasons.\n",
    "df.total_sales.groupby(df['Pattern Type']).sum().sort_values(ascending=False)"
   ]
  },
  {
   "cell_type": "code",
   "execution_count": 728,
   "id": "8d5db04e-ef9a-42b7-b9b8-f9bd7cd22398",
   "metadata": {},
   "outputs": [],
   "source": [
    "df['Pattern Type'] = df['Pattern Type'].replace(['floral', None, 'splice', 'character', 'leapord','plaid'],'others')"
   ]
  },
  {
   "cell_type": "code",
   "execution_count": 730,
   "id": "20a86677-82e8-41ee-b6b7-8d384f3108da",
   "metadata": {},
   "outputs": [
    {
     "data": {
      "text/plain": [
       "array(['animal', 'print', 'dot', 'solid', 'others', 'patchwork',\n",
       "       'striped', 'geometric', 'leopard', 'none'], dtype=object)"
      ]
     },
     "execution_count": 730,
     "metadata": {},
     "output_type": "execute_result"
    }
   ],
   "source": [
    "df['Pattern Type'].unique()"
   ]
  },
  {
   "cell_type": "code",
   "execution_count": 737,
   "id": "ddf4d158-89dd-493a-9d3e-46ca0a6e6eab",
   "metadata": {},
   "outputs": [
    {
     "data": {
      "text/plain": [
       "Decoration\n",
       "lace          425027.0\n",
       "sashes        285759.0\n",
       "bow           255359.0\n",
       "ruffles       191187.0\n",
       "applique       67873.0\n",
       "hollowout      67758.0\n",
       "beading        64917.0\n",
       "sequined       48699.0\n",
       "embroidary     45760.0\n",
       "button         22203.0\n",
       "Tiered         22147.0\n",
       "pockets        21532.0\n",
       "rivet          17801.0\n",
       "ruched          7940.0\n",
       "draped          7099.0\n",
       "flowers         6676.0\n",
       "crystal         6450.0\n",
       "none            3551.0\n",
       "plain           2740.0\n",
       "pleat           1645.0\n",
       "tassel           939.0\n",
       "cascading        210.0\n",
       "feathers          64.0\n",
       "pearls            41.0\n",
       "Name: total_sales, dtype: float64"
      ]
     },
     "execution_count": 737,
     "metadata": {},
     "output_type": "execute_result"
    }
   ],
   "source": [
    "# replacing all the categories to \"Others\" which have less than 25000 sales across all the seasons.\n",
    "df.total_sales.groupby(df.Decoration).sum().sort_values(ascending=False)"
   ]
  },
  {
   "cell_type": "code",
   "execution_count": 749,
   "id": "592cedfe-7265-4f41-b587-7425848ff948",
   "metadata": {},
   "outputs": [],
   "source": [
    "df.Decoration = df.Decoration.replace(['button','Tiered','pockets','rivet','ruched','draped','flowers','crystal',\n",
    "'none','plain','pleat','tassel','cascading','feathers','pearls'],'others')"
   ]
  },
  {
   "cell_type": "code",
   "execution_count": 751,
   "id": "df054fd7-0116-4687-93a2-c0f56883d037",
   "metadata": {},
   "outputs": [
    {
     "data": {
      "text/plain": [
       "array(['ruffles', 'others', 'embroidary', 'bow', 'beading', 'lace',\n",
       "       'sashes', 'hollowout', 'sequined', 'applique'], dtype=object)"
      ]
     },
     "execution_count": 751,
     "metadata": {},
     "output_type": "execute_result"
    }
   ],
   "source": [
    "df.Decoration.unique()"
   ]
  },
  {
   "cell_type": "markdown",
   "id": "b921bfbe-2187-405b-b664-280dc684a785",
   "metadata": {},
   "source": [
    "## Categorical Ordered Univariate Analysis"
   ]
  },
  {
   "cell_type": "code",
   "execution_count": 756,
   "id": "3d6d775a-ce70-436e-a207-4b3c521de00b",
   "metadata": {},
   "outputs": [
    {
     "data": {
      "text/plain": [
       "count      479.000000\n",
       "mean      2846.112735\n",
       "std       5004.985872\n",
       "min          1.000000\n",
       "25%        410.500000\n",
       "50%       1334.000000\n",
       "75%       3126.000000\n",
       "max      55532.000000\n",
       "Name: Autumn_total_sales, dtype: float64"
      ]
     },
     "execution_count": 756,
     "metadata": {},
     "output_type": "execute_result"
    }
   ],
   "source": [
    "# describe the numerical column Autumn using .describe()\n",
    "df['Autumn_total_sales'].describe()"
   ]
  },
  {
   "cell_type": "code",
   "execution_count": 758,
   "id": "897d77bf-f913-44ee-a4f5-e025a7b11f2a",
   "metadata": {},
   "outputs": [
    {
     "data": {
      "image/png": "[encoded data removed]",
      "text/plain": [
       "<Figure size 640x480 with 1 Axes>"
      ]
     },
     "metadata": {},
     "output_type": "display_data"
    }
   ],
   "source": [
    "# plot the boxplot of Autumn column.\n",
    "plt.boxplot(df['Autumn_total_sales'])\n",
    "plt.show()"
   ]
  },
  {
   "cell_type": "code",
   "execution_count": 760,
   "id": "01d19d48-d4ed-48b2-bc83-09f066c5296f",
   "metadata": {},
   "outputs": [
    {
     "data": {
      "text/plain": [
       "31571.600000000064"
      ]
     },
     "execution_count": 760,
     "metadata": {},
     "output_type": "execute_result"
    }
   ],
   "source": [
    "# the difference between the maximum and 99th percentile of Autumn sales\n",
    "df['Autumn_total_sales'].max() - df['Autumn_total_sales'].quantile(0.99)\n"
   ]
  },
  {
   "cell_type": "code",
   "execution_count": 762,
   "id": "a2db06c8-41dc-4d09-bd3a-b4ecb7905a3a",
   "metadata": {},
   "outputs": [
    {
     "data": {
      "text/plain": [
       "4717.12"
      ]
     },
     "execution_count": 762,
     "metadata": {},
     "output_type": "execute_result"
    }
   ],
   "source": [
    "# Similarly finding the difference between the maximum and 99th percentile of summer, winter and spring total sales\n",
    "df['Summer_total_sales'].max() - df['Summer_total_sales'].quantile(0.99)\n",
    "df['Winter_total_sales'].max() - df['Winter_total_sales'].quantile(0.99)\n",
    "df['Spring_total_sales'].max() - df['Spring_total_sales'].quantile(0.99)\n"
   ]
  },
  {
   "cell_type": "markdown",
   "id": "e6719c6a-b96c-4f0a-ac42-fce18ee1f843",
   "metadata": {},
   "source": [
    "## Bivariate Analysis"
   ]
  },
  {
   "cell_type": "markdown",
   "id": "3e0ed953-fc5f-44ce-bcc3-68179e7b53b8",
   "metadata": {},
   "source": [
    "### Lowest average rating for various categories of Price column"
   ]
  },
  {
   "cell_type": "code",
   "execution_count": 771,
   "id": "ec8303df-b20f-4959-bf35-6da914d4a69f",
   "metadata": {},
   "outputs": [
    {
     "data": {
      "text/plain": [
       "Price\n",
       "Average      3.464167\n",
       "High         2.914286\n",
       "Low          3.692121\n",
       "Medium       3.156667\n",
       "very-high    3.123810\n",
       "Name: Rating, dtype: float64"
      ]
     },
     "execution_count": 771,
     "metadata": {},
     "output_type": "execute_result"
    }
   ],
   "source": [
    "df.Rating.groupby(df.Price).mean()"
   ]
  },
  {
   "cell_type": "markdown",
   "id": "e4631c7c-1fcc-4c37-bf7c-ba3e7bc619dd",
   "metadata": {},
   "source": [
    "### Median of ratings for various categories of Style column"
   ]
  },
  {
   "cell_type": "code",
   "execution_count": 773,
   "id": "0158e126-0f39-4492-a9b3-374633b1f248",
   "metadata": {},
   "outputs": [
    {
     "data": {
      "text/plain": [
       "Style\n",
       "Brief       4.60\n",
       "Casual      4.60\n",
       "Sexy        4.55\n",
       "bohemian    4.60\n",
       "cute        4.55\n",
       "others      0.00\n",
       "party       4.70\n",
       "sexy        4.50\n",
       "vintage     4.60\n",
       "work        4.70\n",
       "Name: Rating, dtype: float64"
      ]
     },
     "execution_count": 773,
     "metadata": {},
     "output_type": "execute_result"
    }
   ],
   "source": [
    "df.Rating.groupby(df.Style).median()"
   ]
  },
  {
   "cell_type": "code",
   "execution_count": 777,
   "id": "7b14d605-5209-424e-a065-133298baf0d9",
   "metadata": {},
   "outputs": [
    {
     "data": {
      "text/plain": [
       "Season\n",
       "Autumn    0.333333\n",
       "Spring    0.601695\n",
       "Summer    0.344156\n",
       "Winter    0.417266\n",
       "Name: Recommendation, dtype: float64"
      ]
     },
     "execution_count": 777,
     "metadata": {},
     "output_type": "execute_result"
    }
   ],
   "source": [
    "df.Recommendation.groupby(df.Season).mean()"
   ]
  },
  {
   "cell_type": "markdown",
   "id": "212e86ba-bb52-43c2-b1db-6b58f0c9b0b6",
   "metadata": {},
   "source": [
    "### Average value of sales with positive recommendation in all the four season"
   ]
  },
  {
   "cell_type": "code",
   "execution_count": 783,
   "id": "fc7ee86e-30cc-44ba-91e8-c4cafc4693f1",
   "metadata": {},
   "outputs": [
    {
     "data": {
      "text/plain": [
       "<Axes: >"
      ]
     },
     "execution_count": 783,
     "metadata": {},
     "output_type": "execute_result"
    },
    {
     "data": {
      "image/png": "[encoded data removed]",
      "text/plain": [
       "<Figure size 640x480 with 1 Axes>"
      ]
     },
     "metadata": {},
     "output_type": "display_data"
    }
   ],
   "source": [
    "\n",
    "df[df.Recommendation==1][['Autumn_total_sales','Summer_total_sales','Winter_total_sales','Spring_total_sales']].mean(axis = 0).plot.bar()"
   ]
  },
  {
   "cell_type": "markdown",
   "id": "1649709d-68bb-44fd-bd0d-b5c1c2629994",
   "metadata": {},
   "source": [
    "### Average values of positive recommendation for Size categories"
   ]
  },
  {
   "cell_type": "code",
   "execution_count": 785,
   "id": "f0b67da9-cdd7-49fc-868b-43b39eb2d68a",
   "metadata": {},
   "outputs": [
    {
     "data": {
      "text/plain": [
       "Size\n",
       "Extra Large    0.285714\n",
       "Free           0.460606\n",
       "Large          0.387097\n",
       "Medium         0.444444\n",
       "Small          0.361111\n",
       "Name: Recommendation, dtype: float64"
      ]
     },
     "execution_count": 785,
     "metadata": {},
     "output_type": "execute_result"
    }
   ],
   "source": [
    "df.Recommendation.groupby(df.Size).mean()"
   ]
  },
  {
   "cell_type": "markdown",
   "id": "682406b3-d47e-4dc8-b202-a9420de67b8e",
   "metadata": {},
   "source": [
    "### Average values of positive recommendation for Style categories for each Price category"
   ]
  },
  {
   "cell_type": "code",
   "execution_count": 793,
   "id": "3e22010b-eac2-4d28-b5cd-ecbce808b020",
   "metadata": {},
   "outputs": [
    {
     "data": {
      "text/plain": [
       "Style     Price    \n",
       "Brief     Average      0.333333\n",
       "          Low          0.000000\n",
       "Casual    Average      0.345455\n",
       "          High         0.666667\n",
       "          Low          0.382022\n",
       "          Medium       0.666667\n",
       "          very-high    0.500000\n",
       "Sexy      Average      0.344828\n",
       "          High         0.000000\n",
       "          Low          0.515152\n",
       "          Medium       0.000000\n",
       "          very-high    0.000000\n",
       "bohemian  Average      0.333333\n",
       "          Low          0.666667\n",
       "          Medium       1.000000\n",
       "          very-high    1.000000\n",
       "cute      Average      0.380952\n",
       "          High         0.666667\n",
       "          Low          0.500000\n",
       "          Medium       1.000000\n",
       "others    Average      0.375000\n",
       "          Medium       0.500000\n",
       "party     Average      0.666667\n",
       "          High         0.333333\n",
       "          Medium       0.800000\n",
       "          very-high    0.823529\n",
       "sexy      Average      0.500000\n",
       "          Low          0.750000\n",
       "          Medium       0.000000\n",
       "vintage   Average      0.352941\n",
       "          High         0.000000\n",
       "          Low          0.250000\n",
       "          Medium       0.500000\n",
       "work      Average      0.214286\n",
       "          Low          0.000000\n",
       "          Medium       0.000000\n",
       "Name: Recommendation, dtype: float64"
      ]
     },
     "execution_count": 793,
     "metadata": {},
     "output_type": "execute_result"
    }
   ],
   "source": [
    "df.Recommendation.groupby([df.Style,df.Price]).mean()"
   ]
  },
  {
   "cell_type": "markdown",
   "id": "c5e1b917-76a8-4c72-9da5-62cf648605ee",
   "metadata": {},
   "source": [
    "### Material types with no recommendation can be obtained using pivot table"
   ]
  },
  {
   "cell_type": "code",
   "execution_count": 825,
   "id": "67f9723f-b28a-4496-b1c2-7114b8d9ee1a",
   "metadata": {},
   "outputs": [
    {
     "data": {
      "text/html": [
       "<div>\n",
       "<style scoped>\n",
       "    .dataframe tbody tr th:only-of-type {\n",
       "        vertical-align: middle;\n",
       "    }\n",
       "\n",
       "    .dataframe tbody tr th {\n",
       "        vertical-align: top;\n",
       "    }\n",
       "\n",
       "    .dataframe thead th {\n",
       "        text-align: right;\n",
       "    }\n",
       "</style>\n",
       "<table border=\"1\" class=\"dataframe\">\n",
       "  <thead>\n",
       "    <tr style=\"text-align: right;\">\n",
       "      <th>Season</th>\n",
       "      <th>Autumn</th>\n",
       "      <th>Spring</th>\n",
       "      <th>Summer</th>\n",
       "      <th>Winter</th>\n",
       "    </tr>\n",
       "    <tr>\n",
       "      <th>Material</th>\n",
       "      <th></th>\n",
       "      <th></th>\n",
       "      <th></th>\n",
       "      <th></th>\n",
       "    </tr>\n",
       "  </thead>\n",
       "  <tbody>\n",
       "    <tr>\n",
       "      <th>chiffonfabric</th>\n",
       "      <td>0.500000</td>\n",
       "      <td>0.600000</td>\n",
       "      <td>0.125000</td>\n",
       "      <td>0.000000</td>\n",
       "    </tr>\n",
       "    <tr>\n",
       "      <th>cotton</th>\n",
       "      <td>0.294118</td>\n",
       "      <td>0.576923</td>\n",
       "      <td>0.386667</td>\n",
       "      <td>0.517241</td>\n",
       "    </tr>\n",
       "    <tr>\n",
       "      <th>microfiber</th>\n",
       "      <td>NaN</td>\n",
       "      <td>1.000000</td>\n",
       "      <td>0.000000</td>\n",
       "      <td>0.000000</td>\n",
       "    </tr>\n",
       "    <tr>\n",
       "      <th>milksilk</th>\n",
       "      <td>1.000000</td>\n",
       "      <td>NaN</td>\n",
       "      <td>0.000000</td>\n",
       "      <td>0.000000</td>\n",
       "    </tr>\n",
       "    <tr>\n",
       "      <th>mix</th>\n",
       "      <td>NaN</td>\n",
       "      <td>0.500000</td>\n",
       "      <td>0.333333</td>\n",
       "      <td>0.200000</td>\n",
       "    </tr>\n",
       "    <tr>\n",
       "      <th>nylon</th>\n",
       "      <td>0.000000</td>\n",
       "      <td>0.333333</td>\n",
       "      <td>1.000000</td>\n",
       "      <td>0.333333</td>\n",
       "    </tr>\n",
       "    <tr>\n",
       "      <th>others</th>\n",
       "      <td>0.360000</td>\n",
       "      <td>0.641026</td>\n",
       "      <td>0.425000</td>\n",
       "      <td>0.473684</td>\n",
       "    </tr>\n",
       "    <tr>\n",
       "      <th>polyster</th>\n",
       "      <td>0.266667</td>\n",
       "      <td>0.571429</td>\n",
       "      <td>0.071429</td>\n",
       "      <td>0.360000</td>\n",
       "    </tr>\n",
       "    <tr>\n",
       "      <th>rayon</th>\n",
       "      <td>0.666667</td>\n",
       "      <td>1.000000</td>\n",
       "      <td>0.333333</td>\n",
       "      <td>NaN</td>\n",
       "    </tr>\n",
       "    <tr>\n",
       "      <th>silk</th>\n",
       "      <td>0.000000</td>\n",
       "      <td>0.538462</td>\n",
       "      <td>0.000000</td>\n",
       "      <td>0.714286</td>\n",
       "    </tr>\n",
       "    <tr>\n",
       "      <th>spandex</th>\n",
       "      <td>NaN</td>\n",
       "      <td>0.500000</td>\n",
       "      <td>0.000000</td>\n",
       "      <td>NaN</td>\n",
       "    </tr>\n",
       "  </tbody>\n",
       "</table>\n",
       "</div>"
      ],
      "text/plain": [
       "Season           Autumn    Spring    Summer    Winter\n",
       "Material                                             \n",
       "chiffonfabric  0.500000  0.600000  0.125000  0.000000\n",
       "cotton         0.294118  0.576923  0.386667  0.517241\n",
       "microfiber          NaN  1.000000  0.000000  0.000000\n",
       "milksilk       1.000000       NaN  0.000000  0.000000\n",
       "mix                 NaN  0.500000  0.333333  0.200000\n",
       "nylon          0.000000  0.333333  1.000000  0.333333\n",
       "others         0.360000  0.641026  0.425000  0.473684\n",
       "polyster       0.266667  0.571429  0.071429  0.360000\n",
       "rayon          0.666667  1.000000  0.333333       NaN\n",
       "silk           0.000000  0.538462  0.000000  0.714286\n",
       "spandex             NaN  0.500000  0.000000       NaN"
      ]
     },
     "execution_count": 825,
     "metadata": {},
     "output_type": "execute_result"
    }
   ],
   "source": [
    "pd.pivot_table(data = df, index = \"Material\", columns = \"Season\", values = \"Recommendation\", aggfunc='mean')\n",
    "pivot_table"
   ]
  },
  {
   "cell_type": "code",
   "execution_count": 823,
   "id": "10eabe7c-733b-47e5-82ee-ae804aa8acfe",
   "metadata": {},
   "outputs": [
    {
     "data": {
      "text/html": [
       "<div>\n",
       "<style scoped>\n",
       "    .dataframe tbody tr th:only-of-type {\n",
       "        vertical-align: middle;\n",
       "    }\n",
       "\n",
       "    .dataframe tbody tr th {\n",
       "        vertical-align: top;\n",
       "    }\n",
       "\n",
       "    .dataframe thead th {\n",
       "        text-align: right;\n",
       "    }\n",
       "</style>\n",
       "<table border=\"1\" class=\"dataframe\">\n",
       "  <thead>\n",
       "    <tr style=\"text-align: right;\">\n",
       "      <th></th>\n",
       "      <th>Season</th>\n",
       "      <th>Recommendation</th>\n",
       "    </tr>\n",
       "  </thead>\n",
       "  <tbody>\n",
       "    <tr>\n",
       "      <th>40</th>\n",
       "      <td>Autumn</td>\n",
       "      <td>0</td>\n",
       "    </tr>\n",
       "    <tr>\n",
       "      <th>59</th>\n",
       "      <td>Spring</td>\n",
       "      <td>1</td>\n",
       "    </tr>\n",
       "    <tr>\n",
       "      <th>86</th>\n",
       "      <td>Autumn</td>\n",
       "      <td>1</td>\n",
       "    </tr>\n",
       "    <tr>\n",
       "      <th>275</th>\n",
       "      <td>Spring</td>\n",
       "      <td>1</td>\n",
       "    </tr>\n",
       "    <tr>\n",
       "      <th>309</th>\n",
       "      <td>Summer</td>\n",
       "      <td>1</td>\n",
       "    </tr>\n",
       "    <tr>\n",
       "      <th>310</th>\n",
       "      <td>Spring</td>\n",
       "      <td>1</td>\n",
       "    </tr>\n",
       "    <tr>\n",
       "      <th>355</th>\n",
       "      <td>Summer</td>\n",
       "      <td>0</td>\n",
       "    </tr>\n",
       "    <tr>\n",
       "      <th>402</th>\n",
       "      <td>Summer</td>\n",
       "      <td>0</td>\n",
       "    </tr>\n",
       "    <tr>\n",
       "      <th>422</th>\n",
       "      <td>Autumn</td>\n",
       "      <td>1</td>\n",
       "    </tr>\n",
       "    <tr>\n",
       "      <th>462</th>\n",
       "      <td>Spring</td>\n",
       "      <td>1</td>\n",
       "    </tr>\n",
       "  </tbody>\n",
       "</table>\n",
       "</div>"
      ],
      "text/plain": [
       "     Season  Recommendation\n",
       "40   Autumn               0\n",
       "59   Spring               1\n",
       "86   Autumn               1\n",
       "275  Spring               1\n",
       "309  Summer               1\n",
       "310  Spring               1\n",
       "355  Summer               0\n",
       "402  Summer               0\n",
       "422  Autumn               1\n",
       "462  Spring               1"
      ]
     },
     "execution_count": 823,
     "metadata": {},
     "output_type": "execute_result"
    }
   ],
   "source": [
    "# why NaN values, for example, for rayon-winter?\n",
    "df.loc[df.Material=='rayon',['Season','Recommendation']]"
   ]
  },
  {
   "cell_type": "markdown",
   "id": "fcb32ed8-43ec-4dce-b877-be84ab8e960e",
   "metadata": {},
   "source": [
    "### Using heatmap tp plot mean of positive recommendation for each season and Material category"
   ]
  },
  {
   "cell_type": "code",
   "execution_count": 841,
   "id": "3754a6b3-43bd-4fb3-8ec7-62fb9d400369",
   "metadata": {},
   "outputs": [],
   "source": [
    "out1 = df.pivot_table(values = 'Recommendation', index = 'Season', columns = 'Material')"
   ]
  },
  {
   "cell_type": "code",
   "execution_count": 863,
   "id": "58ad0ea1-e143-4af8-b226-35ba858f8fdf",
   "metadata": {},
   "outputs": [
    {
     "data": {
      "image/png": "[encoded data removed]",
      "text/plain": [
       "<Figure size 640x480 with 2 Axes>"
      ]
     },
     "metadata": {},
     "output_type": "display_data"
    }
   ],
   "source": [
    "sns.heatmap(data = out1, annot = True, cmap = \"RdYlGn\")\n",
    "plt.show()"
   ]
  },
  {
   "cell_type": "code",
   "execution_count": null,
   "id": "3d104e63-2737-4a7f-b5ed-f54baec1d88e",
   "metadata": {},
   "outputs": [],
   "source": []
  }
 ],
 "metadata": {
  "kernelspec": {
   "display_name": "Python 3 (ipykernel)",
   "language": "python",
   "name": "python3"
  },
  "language_info": {
   "codemirror_mode": {
    "name": "ipython",
    "version": 3
   },
   "file_extension": ".py",
   "mimetype": "text/x-python",
   "name": "python",
   "nbconvert_exporter": "python",
   "pygments_lexer": "ipython3",
   "version": "3.12.4"
  }
 },
 "nbformat": 4,
 "nbformat_minor": 5
}
